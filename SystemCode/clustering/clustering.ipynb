{
  "nbformat": 4,
  "nbformat_minor": 0,
  "metadata": {
    "colab": {
      "name": "Untitled3.ipynb",
      "provenance": [],
      "collapsed_sections": []
    },
    "kernelspec": {
      "name": "python3",
      "display_name": "Python 3"
    }
  },
  "cells": [
    {
      "cell_type": "code",
      "metadata": {
        "colab": {
          "base_uri": "https://localhost:8080/",
          "height": 728
        },
        "id": "_hVoBbkrBeUX",
        "outputId": "b83587e9-a6b3-48e7-e815-5d94d39bd6a6"
      },
      "source": [
        "import pandas as pd\n",
        "\n",
        "house_data=pd.read_csv('/content/test.csv')\n",
        "house_data"
      ],
      "execution_count": 284,
      "outputs": [
        {
          "output_type": "execute_result",
          "data": {
            "text/html": [
              "<div>\n",
              "<style scoped>\n",
              "    .dataframe tbody tr th:only-of-type {\n",
              "        vertical-align: middle;\n",
              "    }\n",
              "\n",
              "    .dataframe tbody tr th {\n",
              "        vertical-align: top;\n",
              "    }\n",
              "\n",
              "    .dataframe thead th {\n",
              "        text-align: right;\n",
              "    }\n",
              "</style>\n",
              "<table border=\"1\" class=\"dataframe\">\n",
              "  <thead>\n",
              "    <tr style=\"text-align: right;\">\n",
              "      <th></th>\n",
              "      <th>web-scraper-order</th>\n",
              "      <th>web-scraper-start-url</th>\n",
              "      <th>page_links</th>\n",
              "      <th>page_links-href</th>\n",
              "      <th>price</th>\n",
              "      <th>room_type</th>\n",
              "      <th>lease_term</th>\n",
              "      <th>facilities</th>\n",
              "      <th>shopping</th>\n",
              "      <th>page_link3</th>\n",
              "      <th>page_link3-href</th>\n",
              "      <th>property_type</th>\n",
              "      <th>property_info</th>\n",
              "      <th>supermarket</th>\n",
              "      <th>page_link2</th>\n",
              "      <th>page_link2-href</th>\n",
              "      <th>price_1</th>\n",
              "      <th>room_type1</th>\n",
              "      <th>lease_term1</th>\n",
              "      <th>property_info1</th>\n",
              "      <th>facility1</th>\n",
              "      <th>shopping1</th>\n",
              "      <th>supermarket1</th>\n",
              "      <th>price2</th>\n",
              "      <th>room_type2</th>\n",
              "      <th>lease_term2</th>\n",
              "      <th>property_info2</th>\n",
              "      <th>facility2</th>\n",
              "      <th>shopping2</th>\n",
              "      <th>supermarket2</th>\n",
              "    </tr>\n",
              "  </thead>\n",
              "  <tbody>\n",
              "    <tr>\n",
              "      <th>0</th>\n",
              "      <td>1605963214-219</td>\n",
              "      <td>https://www.stproperty.sg/search/rent/resident...</td>\n",
              "      <td>NaN</td>\n",
              "      <td>NaN</td>\n",
              "      <td>NaN</td>\n",
              "      <td>NaN</td>\n",
              "      <td>NaN</td>\n",
              "      <td>NaN</td>\n",
              "      <td>NaN</td>\n",
              "      <td>Blk 116 Bukit Merah View</td>\n",
              "      <td>https://www.stproperty.sg/listings/87161431/fo...</td>\n",
              "      <td>NaN</td>\n",
              "      <td>NaN</td>\n",
              "      <td>NaN</td>\n",
              "      <td>NaN</td>\n",
              "      <td>NaN</td>\n",
              "      <td>NaN</td>\n",
              "      <td>NaN</td>\n",
              "      <td>NaN</td>\n",
              "      <td>NaN</td>\n",
              "      <td>NaN</td>\n",
              "      <td>NaN</td>\n",
              "      <td>NaN</td>\n",
              "      <td>$999</td>\n",
              "      <td>Common</td>\n",
              "      <td>Flexible</td>\n",
              "      <td>About this property\\n\\t\\t\\t\\n\\t\\t\\t\\t\\n\\t\\t\\t\\...</td>\n",
              "      <td>Facilities\\n\\t\\t\\t\\n\\t\\t\\t\\t\\n\\t\\t\\t\\t\\t\\n\\t\\t...</td>\n",
              "      <td>Shopping Malls\\n\\t\\t\\t\\t\\t\\t\\t\\n\\t\\t\\t\\t\\t\\t\\t...</td>\n",
              "      <td>Groceries &amp; Supermarts\\n\\t\\t\\t\\t\\t\\t\\t\\n\\t\\t\\t...</td>\n",
              "    </tr>\n",
              "    <tr>\n",
              "      <th>1</th>\n",
              "      <td>1605963690-275</td>\n",
              "      <td>https://www.stproperty.sg/search/rent/resident...</td>\n",
              "      <td>NaN</td>\n",
              "      <td>NaN</td>\n",
              "      <td>NaN</td>\n",
              "      <td>NaN</td>\n",
              "      <td>NaN</td>\n",
              "      <td>NaN</td>\n",
              "      <td>NaN</td>\n",
              "      <td>Sturdee Residences</td>\n",
              "      <td>https://www.stproperty.sg/listings/87099471/fo...</td>\n",
              "      <td>NaN</td>\n",
              "      <td>NaN</td>\n",
              "      <td>NaN</td>\n",
              "      <td>NaN</td>\n",
              "      <td>NaN</td>\n",
              "      <td>NaN</td>\n",
              "      <td>NaN</td>\n",
              "      <td>NaN</td>\n",
              "      <td>NaN</td>\n",
              "      <td>NaN</td>\n",
              "      <td>NaN</td>\n",
              "      <td>NaN</td>\n",
              "      <td>$1,350</td>\n",
              "      <td>N.A</td>\n",
              "      <td>Flexible</td>\n",
              "      <td>About this property\\n\\t\\t\\t\\n\\t\\t\\t\\t\\n\\t\\t\\t\\...</td>\n",
              "      <td>Facilities\\n\\t\\t\\t\\n\\t\\t\\t\\t\\n\\t\\t\\t\\t\\t\\n\\t\\t...</td>\n",
              "      <td>Shopping Malls\\n\\t\\t\\t\\t\\t\\t\\t\\n\\t\\t\\t\\t\\t\\t\\t...</td>\n",
              "      <td>Groceries &amp; Supermarts\\n\\t\\t\\t\\t\\t\\t\\t\\n\\t\\t\\t...</td>\n",
              "    </tr>\n",
              "    <tr>\n",
              "      <th>2</th>\n",
              "      <td>1605964589-413</td>\n",
              "      <td>https://www.stproperty.sg/search/rent/resident...</td>\n",
              "      <td>NaN</td>\n",
              "      <td>NaN</td>\n",
              "      <td>NaN</td>\n",
              "      <td>NaN</td>\n",
              "      <td>NaN</td>\n",
              "      <td>NaN</td>\n",
              "      <td>NaN</td>\n",
              "      <td>Blk 659A Jurong West Street 65</td>\n",
              "      <td>https://www.stproperty.sg/listings/89389471/fo...</td>\n",
              "      <td>NaN</td>\n",
              "      <td>NaN</td>\n",
              "      <td>NaN</td>\n",
              "      <td>NaN</td>\n",
              "      <td>NaN</td>\n",
              "      <td>NaN</td>\n",
              "      <td>NaN</td>\n",
              "      <td>NaN</td>\n",
              "      <td>NaN</td>\n",
              "      <td>NaN</td>\n",
              "      <td>NaN</td>\n",
              "      <td>NaN</td>\n",
              "      <td>$850</td>\n",
              "      <td>Common</td>\n",
              "      <td>Flexible</td>\n",
              "      <td>About this property\\n\\t\\t\\t\\n\\t\\t\\t\\t\\n\\t\\t\\t\\...</td>\n",
              "      <td>Facilities\\n\\t\\t\\t\\n\\t\\t\\t\\t\\n\\t\\t\\t\\t\\t\\n\\t\\t...</td>\n",
              "      <td>Shopping Malls\\n\\t\\t\\t\\t\\t\\t\\t\\n\\t\\t\\t\\t\\t\\t\\t...</td>\n",
              "      <td>Groceries &amp; Supermarts\\n\\t\\t\\t\\t\\t\\t\\t\\n\\t\\t\\t...</td>\n",
              "    </tr>\n",
              "    <tr>\n",
              "      <th>3</th>\n",
              "      <td>1605964812-468</td>\n",
              "      <td>https://www.stproperty.sg/search/rent/resident...</td>\n",
              "      <td>Blk 443C Fernvale Road</td>\n",
              "      <td>https://www.stproperty.sg/listings/89291981/fo...</td>\n",
              "      <td>$700</td>\n",
              "      <td>N.A</td>\n",
              "      <td>40 sqm (Built-up)</td>\n",
              "      <td>Facilities\\n\\t\\t\\t\\n\\t\\t\\t\\t\\n\\t\\t\\t\\t\\t\\n\\t\\t...</td>\n",
              "      <td>Shopping Malls\\n\\t\\t\\t\\t\\t\\t\\t\\n\\t\\t\\t\\t\\t\\t\\t...</td>\n",
              "      <td>NaN</td>\n",
              "      <td>NaN</td>\n",
              "      <td>HDB 4 Rooms</td>\n",
              "      <td>About this property\\n\\t\\t\\t\\n\\t\\t\\t\\t\\n\\t\\t\\t\\...</td>\n",
              "      <td>Groceries &amp; Supermarts\\n\\t\\t\\t\\t\\t\\t\\t\\n\\t\\t\\t...</td>\n",
              "      <td>NaN</td>\n",
              "      <td>NaN</td>\n",
              "      <td>NaN</td>\n",
              "      <td>NaN</td>\n",
              "      <td>NaN</td>\n",
              "      <td>NaN</td>\n",
              "      <td>NaN</td>\n",
              "      <td>NaN</td>\n",
              "      <td>NaN</td>\n",
              "      <td>NaN</td>\n",
              "      <td>NaN</td>\n",
              "      <td>NaN</td>\n",
              "      <td>NaN</td>\n",
              "      <td>NaN</td>\n",
              "      <td>NaN</td>\n",
              "      <td>NaN</td>\n",
              "    </tr>\n",
              "    <tr>\n",
              "      <th>4</th>\n",
              "      <td>1605965384-583</td>\n",
              "      <td>https://www.stproperty.sg/search/rent/resident...</td>\n",
              "      <td>Havelock Road</td>\n",
              "      <td>https://www.stproperty.sg/listings/89245891/fo...</td>\n",
              "      <td>$2,500</td>\n",
              "      <td>N.A</td>\n",
              "      <td>450 sqft (Land) / \\n\\t\\t\\t\\t\\t\\t\\t\\t450 sqft (...</td>\n",
              "      <td>Facilities\\n\\t\\t\\t\\n\\t\\t\\t\\t\\n\\t\\t\\t\\t\\t\\n\\t\\t...</td>\n",
              "      <td>Shopping Malls\\n\\t\\t\\t\\t\\t\\t\\t\\n\\t\\t\\t\\t\\t\\t\\t...</td>\n",
              "      <td>NaN</td>\n",
              "      <td>NaN</td>\n",
              "      <td>Semi-Detached</td>\n",
              "      <td>About this property\\n\\t\\t\\t\\n\\t\\t\\t\\t\\n\\t\\t\\t\\...</td>\n",
              "      <td>Groceries &amp; Supermarts\\n\\t\\t\\t\\t\\t\\t\\t\\n\\t\\t\\t...</td>\n",
              "      <td>NaN</td>\n",
              "      <td>NaN</td>\n",
              "      <td>NaN</td>\n",
              "      <td>NaN</td>\n",
              "      <td>NaN</td>\n",
              "      <td>NaN</td>\n",
              "      <td>NaN</td>\n",
              "      <td>NaN</td>\n",
              "      <td>NaN</td>\n",
              "      <td>NaN</td>\n",
              "      <td>NaN</td>\n",
              "      <td>NaN</td>\n",
              "      <td>NaN</td>\n",
              "      <td>NaN</td>\n",
              "      <td>NaN</td>\n",
              "      <td>NaN</td>\n",
              "    </tr>\n",
              "    <tr>\n",
              "      <th>...</th>\n",
              "      <td>...</td>\n",
              "      <td>...</td>\n",
              "      <td>...</td>\n",
              "      <td>...</td>\n",
              "      <td>...</td>\n",
              "      <td>...</td>\n",
              "      <td>...</td>\n",
              "      <td>...</td>\n",
              "      <td>...</td>\n",
              "      <td>...</td>\n",
              "      <td>...</td>\n",
              "      <td>...</td>\n",
              "      <td>...</td>\n",
              "      <td>...</td>\n",
              "      <td>...</td>\n",
              "      <td>...</td>\n",
              "      <td>...</td>\n",
              "      <td>...</td>\n",
              "      <td>...</td>\n",
              "      <td>...</td>\n",
              "      <td>...</td>\n",
              "      <td>...</td>\n",
              "      <td>...</td>\n",
              "      <td>...</td>\n",
              "      <td>...</td>\n",
              "      <td>...</td>\n",
              "      <td>...</td>\n",
              "      <td>...</td>\n",
              "      <td>...</td>\n",
              "      <td>...</td>\n",
              "    </tr>\n",
              "    <tr>\n",
              "      <th>540</th>\n",
              "      <td>1605964509-396</td>\n",
              "      <td>https://www.stproperty.sg/search/rent/resident...</td>\n",
              "      <td>NaN</td>\n",
              "      <td>NaN</td>\n",
              "      <td>NaN</td>\n",
              "      <td>NaN</td>\n",
              "      <td>NaN</td>\n",
              "      <td>NaN</td>\n",
              "      <td>NaN</td>\n",
              "      <td>Blk 50 Commonwealth 10</td>\n",
              "      <td>https://www.stproperty.sg/listings/88873691/fo...</td>\n",
              "      <td>NaN</td>\n",
              "      <td>NaN</td>\n",
              "      <td>NaN</td>\n",
              "      <td>NaN</td>\n",
              "      <td>NaN</td>\n",
              "      <td>NaN</td>\n",
              "      <td>NaN</td>\n",
              "      <td>NaN</td>\n",
              "      <td>NaN</td>\n",
              "      <td>NaN</td>\n",
              "      <td>NaN</td>\n",
              "      <td>NaN</td>\n",
              "      <td>$1,200</td>\n",
              "      <td>N.A</td>\n",
              "      <td>NaN</td>\n",
              "      <td>About this property\\n\\t\\t\\t\\n\\t\\t\\t\\t\\n\\t\\t\\t\\...</td>\n",
              "      <td>Facilities\\n\\t\\t\\t\\n\\t\\t\\t\\t\\n\\t\\t\\t\\t\\t\\n\\t\\t...</td>\n",
              "      <td>Shopping Malls\\n\\t\\t\\t\\t\\t\\t\\t\\n\\t\\t\\t\\t\\t\\t\\t...</td>\n",
              "      <td>Groceries &amp; Supermarts\\n\\t\\t\\t\\t\\t\\t\\t\\n\\t\\t\\t...</td>\n",
              "    </tr>\n",
              "    <tr>\n",
              "      <th>541</th>\n",
              "      <td>1605964346-356</td>\n",
              "      <td>https://www.stproperty.sg/search/rent/resident...</td>\n",
              "      <td>NaN</td>\n",
              "      <td>NaN</td>\n",
              "      <td>NaN</td>\n",
              "      <td>NaN</td>\n",
              "      <td>NaN</td>\n",
              "      <td>NaN</td>\n",
              "      <td>NaN</td>\n",
              "      <td>Lumiere</td>\n",
              "      <td>https://www.stproperty.sg/listings/89069601/fo...</td>\n",
              "      <td>NaN</td>\n",
              "      <td>NaN</td>\n",
              "      <td>NaN</td>\n",
              "      <td>NaN</td>\n",
              "      <td>NaN</td>\n",
              "      <td>NaN</td>\n",
              "      <td>NaN</td>\n",
              "      <td>NaN</td>\n",
              "      <td>NaN</td>\n",
              "      <td>NaN</td>\n",
              "      <td>NaN</td>\n",
              "      <td>NaN</td>\n",
              "      <td>$2,100</td>\n",
              "      <td>N.A</td>\n",
              "      <td>NaN</td>\n",
              "      <td>About this property\\n\\t\\t\\t\\n\\t\\t\\t\\t\\n\\t\\t\\t\\...</td>\n",
              "      <td>Facilities\\n\\t\\t\\t\\n\\t\\t\\t\\t\\n\\t\\t\\t\\t\\t\\n\\t\\t...</td>\n",
              "      <td>Shopping Malls\\n\\t\\t\\t\\t\\t\\t\\t\\n\\t\\t\\t\\t\\t\\t\\t...</td>\n",
              "      <td>Groceries &amp; Supermarts\\n\\t\\t\\t\\t\\t\\t\\t\\n\\t\\t\\t...</td>\n",
              "    </tr>\n",
              "    <tr>\n",
              "      <th>542</th>\n",
              "      <td>1605965337-563</td>\n",
              "      <td>https://www.stproperty.sg/search/rent/resident...</td>\n",
              "      <td>Blk 893B Woodlands Drive 50</td>\n",
              "      <td>https://www.stproperty.sg/listings/82113802/fo...</td>\n",
              "      <td>$800</td>\n",
              "      <td>Common</td>\n",
              "      <td>18 sqm (Built-up)</td>\n",
              "      <td>Facilities\\n\\t\\t\\t\\n\\t\\t\\t\\t\\n\\t\\t\\t\\t\\t\\n\\t\\t...</td>\n",
              "      <td>Shopping Malls\\n\\t\\t\\t\\t\\t\\t\\t\\n\\t\\t\\t\\t\\t\\t\\t...</td>\n",
              "      <td>NaN</td>\n",
              "      <td>NaN</td>\n",
              "      <td>HDB Executive</td>\n",
              "      <td>About this property\\n\\t\\t\\t\\n\\t\\t\\t\\t\\n\\t\\t\\t\\...</td>\n",
              "      <td>Groceries &amp; Supermarts\\n\\t\\t\\t\\t\\t\\t\\t\\n\\t\\t\\t...</td>\n",
              "      <td>NaN</td>\n",
              "      <td>NaN</td>\n",
              "      <td>NaN</td>\n",
              "      <td>NaN</td>\n",
              "      <td>NaN</td>\n",
              "      <td>NaN</td>\n",
              "      <td>NaN</td>\n",
              "      <td>NaN</td>\n",
              "      <td>NaN</td>\n",
              "      <td>NaN</td>\n",
              "      <td>NaN</td>\n",
              "      <td>NaN</td>\n",
              "      <td>NaN</td>\n",
              "      <td>NaN</td>\n",
              "      <td>NaN</td>\n",
              "      <td>NaN</td>\n",
              "    </tr>\n",
              "    <tr>\n",
              "      <th>543</th>\n",
              "      <td>1605963975-303</td>\n",
              "      <td>https://www.stproperty.sg/search/rent/resident...</td>\n",
              "      <td>St. Thomas Ville</td>\n",
              "      <td>https://www.stproperty.sg/listings/89130071/fo...</td>\n",
              "      <td>$1,000</td>\n",
              "      <td>N.A</td>\n",
              "      <td>100 sqft (Built-up)</td>\n",
              "      <td>Facilities\\n\\t\\t\\t\\n\\t\\t\\t\\t\\n\\t\\t\\t\\t\\t\\n\\t\\t...</td>\n",
              "      <td>Shopping Malls\\n\\t\\t\\t\\t\\t\\t\\t\\n\\t\\t\\t\\t\\t\\t\\t...</td>\n",
              "      <td>NaN</td>\n",
              "      <td>NaN</td>\n",
              "      <td>Apartment</td>\n",
              "      <td>About this property\\n\\t\\t\\t\\n\\t\\t\\t\\t\\n\\t\\t\\t\\...</td>\n",
              "      <td>Groceries &amp; Supermarts\\n\\t\\t\\t\\t\\t\\t\\t\\n\\t\\t\\t...</td>\n",
              "      <td>NaN</td>\n",
              "      <td>NaN</td>\n",
              "      <td>NaN</td>\n",
              "      <td>NaN</td>\n",
              "      <td>NaN</td>\n",
              "      <td>NaN</td>\n",
              "      <td>NaN</td>\n",
              "      <td>NaN</td>\n",
              "      <td>NaN</td>\n",
              "      <td>NaN</td>\n",
              "      <td>NaN</td>\n",
              "      <td>NaN</td>\n",
              "      <td>NaN</td>\n",
              "      <td>NaN</td>\n",
              "      <td>NaN</td>\n",
              "      <td>NaN</td>\n",
              "    </tr>\n",
              "    <tr>\n",
              "      <th>544</th>\n",
              "      <td>1605963529-263</td>\n",
              "      <td>https://www.stproperty.sg/search/rent/resident...</td>\n",
              "      <td>Pebble lane</td>\n",
              "      <td>https://www.stproperty.sg/listings/87917141/fo...</td>\n",
              "      <td>$950</td>\n",
              "      <td>N.A</td>\n",
              "      <td>4,500 sqft (Land) / \\n\\t\\t\\t\\t\\t\\t\\t\\t120 sqft...</td>\n",
              "      <td>Facilities\\n\\t\\t\\t\\n\\t\\t\\t\\t\\n\\t\\t\\t\\t\\t\\n\\t\\t...</td>\n",
              "      <td>Shopping Malls\\n\\t\\t\\t\\t\\t\\t\\t\\n\\t\\t\\t\\t\\t\\t\\t...</td>\n",
              "      <td>NaN</td>\n",
              "      <td>NaN</td>\n",
              "      <td>Semi-Detached</td>\n",
              "      <td>About this property\\n\\t\\t\\t\\n\\t\\t\\t\\t\\n\\t\\t\\t\\...</td>\n",
              "      <td>Groceries &amp; Supermarts\\n\\t\\t\\t\\t\\t\\t\\t\\n\\t\\t\\t...</td>\n",
              "      <td>NaN</td>\n",
              "      <td>NaN</td>\n",
              "      <td>NaN</td>\n",
              "      <td>NaN</td>\n",
              "      <td>NaN</td>\n",
              "      <td>NaN</td>\n",
              "      <td>NaN</td>\n",
              "      <td>NaN</td>\n",
              "      <td>NaN</td>\n",
              "      <td>NaN</td>\n",
              "      <td>NaN</td>\n",
              "      <td>NaN</td>\n",
              "      <td>NaN</td>\n",
              "      <td>NaN</td>\n",
              "      <td>NaN</td>\n",
              "      <td>NaN</td>\n",
              "    </tr>\n",
              "  </tbody>\n",
              "</table>\n",
              "<p>545 rows × 30 columns</p>\n",
              "</div>"
            ],
            "text/plain": [
              "    web-scraper-order  ...                                       supermarket2\n",
              "0      1605963214-219  ...  Groceries & Supermarts\\n\\t\\t\\t\\t\\t\\t\\t\\n\\t\\t\\t...\n",
              "1      1605963690-275  ...  Groceries & Supermarts\\n\\t\\t\\t\\t\\t\\t\\t\\n\\t\\t\\t...\n",
              "2      1605964589-413  ...  Groceries & Supermarts\\n\\t\\t\\t\\t\\t\\t\\t\\n\\t\\t\\t...\n",
              "3      1605964812-468  ...                                                NaN\n",
              "4      1605965384-583  ...                                                NaN\n",
              "..                ...  ...                                                ...\n",
              "540    1605964509-396  ...  Groceries & Supermarts\\n\\t\\t\\t\\t\\t\\t\\t\\n\\t\\t\\t...\n",
              "541    1605964346-356  ...  Groceries & Supermarts\\n\\t\\t\\t\\t\\t\\t\\t\\n\\t\\t\\t...\n",
              "542    1605965337-563  ...                                                NaN\n",
              "543    1605963975-303  ...                                                NaN\n",
              "544    1605963529-263  ...                                                NaN\n",
              "\n",
              "[545 rows x 30 columns]"
            ]
          },
          "metadata": {
            "tags": []
          },
          "execution_count": 284
        }
      ]
    },
    {
      "cell_type": "code",
      "metadata": {
        "colab": {
          "base_uri": "https://localhost:8080/",
          "height": 745
        },
        "id": "2cpy8qw1CBUr",
        "outputId": "6fd1a2e4-ca6e-4bfd-fe90-7b4b28aa4495"
      },
      "source": [
        "house_data2=pd.read_csv('/content/test3.csv')\n",
        "house_data2"
      ],
      "execution_count": 285,
      "outputs": [
        {
          "output_type": "execute_result",
          "data": {
            "text/html": [
              "<div>\n",
              "<style scoped>\n",
              "    .dataframe tbody tr th:only-of-type {\n",
              "        vertical-align: middle;\n",
              "    }\n",
              "\n",
              "    .dataframe tbody tr th {\n",
              "        vertical-align: top;\n",
              "    }\n",
              "\n",
              "    .dataframe thead th {\n",
              "        text-align: right;\n",
              "    }\n",
              "</style>\n",
              "<table border=\"1\" class=\"dataframe\">\n",
              "  <thead>\n",
              "    <tr style=\"text-align: right;\">\n",
              "      <th></th>\n",
              "      <th>web-scraper-order</th>\n",
              "      <th>web-scraper-start-url</th>\n",
              "      <th>page_links</th>\n",
              "      <th>page_links-href</th>\n",
              "      <th>price</th>\n",
              "      <th>room_type</th>\n",
              "      <th>lease_term</th>\n",
              "      <th>facilities</th>\n",
              "      <th>shopping</th>\n",
              "      <th>property_type</th>\n",
              "      <th>property_info</th>\n",
              "      <th>supermarket</th>\n",
              "    </tr>\n",
              "  </thead>\n",
              "  <tbody>\n",
              "    <tr>\n",
              "      <th>0</th>\n",
              "      <td>1606014711-1099</td>\n",
              "      <td>https://www.stproperty.sg/search/rent/resident...</td>\n",
              "      <td>Tan Tong Meng Tower</td>\n",
              "      <td>https://www.stproperty.sg/listings/88490911/fo...</td>\n",
              "      <td>$850</td>\n",
              "      <td>Common</td>\n",
              "      <td>Key Information\\n\\t\\t\\t\\n\\t\\t\\t\\t\\n\\t\\t\\t\\t\\t\\...</td>\n",
              "      <td>Facilities\\n\\t\\t\\t\\n\\t\\t\\t\\t\\n\\t\\t\\t\\t\\t\\n\\t\\t...</td>\n",
              "      <td>Shopping Malls\\n\\t\\t\\t\\t\\t\\t\\t\\n\\t\\t\\t\\t\\t\\t\\t...</td>\n",
              "      <td>Apartment</td>\n",
              "      <td>About this property\\n\\t\\t\\t\\n\\t\\t\\t\\t\\n\\t\\t\\t\\...</td>\n",
              "      <td>Groceries &amp; Supermarts\\n\\t\\t\\t\\t\\t\\t\\t\\n\\t\\t\\t...</td>\n",
              "    </tr>\n",
              "    <tr>\n",
              "      <th>1</th>\n",
              "      <td>1606013826-889</td>\n",
              "      <td>https://www.stproperty.sg/search/rent/resident...</td>\n",
              "      <td>Blk 126C Kim Tian Road</td>\n",
              "      <td>https://www.stproperty.sg/listings/88847861/fo...</td>\n",
              "      <td>$850</td>\n",
              "      <td>Common</td>\n",
              "      <td>Key Information\\n\\t\\t\\t\\n\\t\\t\\t\\t\\n\\t\\t\\t\\t\\t\\...</td>\n",
              "      <td>NaN</td>\n",
              "      <td>Shopping Malls\\n\\t\\t\\t\\t\\t\\t\\t\\n\\t\\t\\t\\t\\t\\t\\t...</td>\n",
              "      <td>HDB 4 Rooms</td>\n",
              "      <td>About this property\\n\\t\\t\\t\\n\\t\\t\\t\\t\\n\\t\\t\\t\\...</td>\n",
              "      <td>Groceries &amp; Supermarts\\n\\t\\t\\t\\t\\t\\t\\t\\n\\t\\t\\t...</td>\n",
              "    </tr>\n",
              "    <tr>\n",
              "      <th>2</th>\n",
              "      <td>1606014089-971</td>\n",
              "      <td>https://www.stproperty.sg/search/rent/resident...</td>\n",
              "      <td>Stirling Road</td>\n",
              "      <td>https://www.stproperty.sg/listings/83113922/fo...</td>\n",
              "      <td>$1,330</td>\n",
              "      <td>Master</td>\n",
              "      <td>Key Information\\n\\t\\t\\t\\n\\t\\t\\t\\t\\n\\t\\t\\t\\t\\t\\...</td>\n",
              "      <td>Facilities\\n\\t\\t\\t\\n\\t\\t\\t\\t\\n\\t\\t\\t\\t\\t\\n\\t\\t...</td>\n",
              "      <td>Shopping Malls\\n\\t\\t\\t\\t\\t\\t\\t\\n\\t\\t\\t\\t\\t\\t\\t...</td>\n",
              "      <td>Terrace</td>\n",
              "      <td>About this property\\n\\t\\t\\t\\n\\t\\t\\t\\t\\n\\t\\t\\t\\...</td>\n",
              "      <td>Groceries &amp; Supermarts\\n\\t\\t\\t\\t\\t\\t\\t\\n\\t\\t\\t...</td>\n",
              "    </tr>\n",
              "    <tr>\n",
              "      <th>3</th>\n",
              "      <td>1606014121-979</td>\n",
              "      <td>https://www.stproperty.sg/search/rent/resident...</td>\n",
              "      <td>Bassein Court</td>\n",
              "      <td>https://www.stproperty.sg/listings/88766341/fo...</td>\n",
              "      <td>$1,250</td>\n",
              "      <td>Common</td>\n",
              "      <td>Key Information\\n\\t\\t\\t\\n\\t\\t\\t\\t\\n\\t\\t\\t\\t\\t\\...</td>\n",
              "      <td>Facilities\\n\\t\\t\\t\\n\\t\\t\\t\\t\\n\\t\\t\\t\\t\\t\\n\\t\\t...</td>\n",
              "      <td>Shopping Malls\\n\\t\\t\\t\\t\\t\\t\\t\\n\\t\\t\\t\\t\\t\\t\\t...</td>\n",
              "      <td>Apartment</td>\n",
              "      <td>About this property\\n\\t\\t\\t\\n\\t\\t\\t\\t\\n\\t\\t\\t\\...</td>\n",
              "      <td>Groceries &amp; Supermarts\\n\\t\\t\\t\\t\\t\\t\\t\\n\\t\\t\\t...</td>\n",
              "    </tr>\n",
              "    <tr>\n",
              "      <th>4</th>\n",
              "      <td>1606014098-974</td>\n",
              "      <td>https://www.stproperty.sg/search/rent/resident...</td>\n",
              "      <td>TRE Residences</td>\n",
              "      <td>https://www.stproperty.sg/listings/89049941/fo...</td>\n",
              "      <td>$1,200</td>\n",
              "      <td>N.A</td>\n",
              "      <td>Key Information\\n\\t\\t\\t\\n\\t\\t\\t\\t\\n\\t\\t\\t\\t\\t\\...</td>\n",
              "      <td>Facilities\\n\\t\\t\\t\\n\\t\\t\\t\\t\\n\\t\\t\\t\\t\\t\\n\\t\\t...</td>\n",
              "      <td>Shopping Malls\\n\\t\\t\\t\\t\\t\\t\\t\\n\\t\\t\\t\\t\\t\\t\\t...</td>\n",
              "      <td>Condominium</td>\n",
              "      <td>About this property\\n\\t\\t\\t\\n\\t\\t\\t\\t\\n\\t\\t\\t\\...</td>\n",
              "      <td>Groceries &amp; Supermarts\\n\\t\\t\\t\\t\\t\\t\\t\\n\\t\\t\\t...</td>\n",
              "    </tr>\n",
              "    <tr>\n",
              "      <th>...</th>\n",
              "      <td>...</td>\n",
              "      <td>...</td>\n",
              "      <td>...</td>\n",
              "      <td>...</td>\n",
              "      <td>...</td>\n",
              "      <td>...</td>\n",
              "      <td>...</td>\n",
              "      <td>...</td>\n",
              "      <td>...</td>\n",
              "      <td>...</td>\n",
              "      <td>...</td>\n",
              "      <td>...</td>\n",
              "    </tr>\n",
              "    <tr>\n",
              "      <th>269</th>\n",
              "      <td>1606014013-956</td>\n",
              "      <td>https://www.stproperty.sg/search/rent/resident...</td>\n",
              "      <td>De Royale</td>\n",
              "      <td>https://www.stproperty.sg/listings/88064881/fo...</td>\n",
              "      <td>$1,200</td>\n",
              "      <td>Master</td>\n",
              "      <td>Key Information\\n\\t\\t\\t\\n\\t\\t\\t\\t\\n\\t\\t\\t\\t\\t\\...</td>\n",
              "      <td>Facilities\\n\\t\\t\\t\\n\\t\\t\\t\\t\\n\\t\\t\\t\\t\\t\\n\\t\\t...</td>\n",
              "      <td>Shopping Malls\\n\\t\\t\\t\\t\\t\\t\\t\\n\\t\\t\\t\\t\\t\\t\\t...</td>\n",
              "      <td>Condominium</td>\n",
              "      <td>About this property\\n\\t\\t\\t\\n\\t\\t\\t\\t\\n\\t\\t\\t\\...</td>\n",
              "      <td>Groceries &amp; Supermarts\\n\\t\\t\\t\\t\\t\\t\\t\\n\\t\\t\\t...</td>\n",
              "    </tr>\n",
              "    <tr>\n",
              "      <th>270</th>\n",
              "      <td>1606013845-897</td>\n",
              "      <td>https://www.stproperty.sg/search/rent/resident...</td>\n",
              "      <td>Blk 28 Balam Road</td>\n",
              "      <td>https://www.stproperty.sg/listings/89299431/fo...</td>\n",
              "      <td>$700</td>\n",
              "      <td>Common</td>\n",
              "      <td>Key Information\\n\\t\\t\\t\\n\\t\\t\\t\\t\\n\\t\\t\\t\\t\\t\\...</td>\n",
              "      <td>Facilities\\n\\t\\t\\t\\n\\t\\t\\t\\t\\n\\t\\t\\t\\t\\t\\n\\t\\t...</td>\n",
              "      <td>Shopping Malls\\n\\t\\t\\t\\t\\t\\t\\t\\n\\t\\t\\t\\t\\t\\t\\t...</td>\n",
              "      <td>HDB 5 Rooms</td>\n",
              "      <td>About this property\\n\\t\\t\\t\\n\\t\\t\\t\\t\\n\\t\\t\\t\\...</td>\n",
              "      <td>Groceries &amp; Supermarts\\n\\t\\t\\t\\t\\t\\t\\t\\n\\t\\t\\t...</td>\n",
              "    </tr>\n",
              "    <tr>\n",
              "      <th>271</th>\n",
              "      <td>1606014901-1144</td>\n",
              "      <td>https://www.stproperty.sg/search/rent/resident...</td>\n",
              "      <td>Blk 114 Ang Mo Kio Avenue 4</td>\n",
              "      <td>https://www.stproperty.sg/listings/88480411/fo...</td>\n",
              "      <td>$800</td>\n",
              "      <td>Common</td>\n",
              "      <td>Key Information\\n\\t\\t\\t\\n\\t\\t\\t\\t\\n\\t\\t\\t\\t\\t\\...</td>\n",
              "      <td>Facilities\\n\\t\\t\\t\\n\\t\\t\\t\\t\\n\\t\\t\\t\\t\\t\\n\\t\\t...</td>\n",
              "      <td>Shopping Malls\\n\\t\\t\\t\\t\\t\\t\\t\\n\\t\\t\\t\\t\\t\\t\\t...</td>\n",
              "      <td>HDB 3 Rooms</td>\n",
              "      <td>About this property\\n\\t\\t\\t\\n\\t\\t\\t\\t\\n\\t\\t\\t\\...</td>\n",
              "      <td>Groceries &amp; Supermarts\\n\\t\\t\\t\\t\\t\\t\\t\\n\\t\\t\\t...</td>\n",
              "    </tr>\n",
              "    <tr>\n",
              "      <th>272</th>\n",
              "      <td>1606013946-936</td>\n",
              "      <td>https://www.stproperty.sg/search/rent/resident...</td>\n",
              "      <td>Blk 514 Choa Chu Kang Street 51</td>\n",
              "      <td>https://www.stproperty.sg/listings/88119121/fo...</td>\n",
              "      <td>$880</td>\n",
              "      <td>Common</td>\n",
              "      <td>Key Information\\n\\t\\t\\t\\n\\t\\t\\t\\t\\n\\t\\t\\t\\t\\t\\...</td>\n",
              "      <td>Facilities\\n\\t\\t\\t\\n\\t\\t\\t\\t\\n\\t\\t\\t\\t\\t\\n\\t\\t...</td>\n",
              "      <td>Shopping Malls\\n\\t\\t\\t\\t\\t\\t\\t\\n\\t\\t\\t\\t\\t\\t\\t...</td>\n",
              "      <td>HDB 5 Rooms</td>\n",
              "      <td>About this property\\n\\t\\t\\t\\n\\t\\t\\t\\t\\n\\t\\t\\t\\...</td>\n",
              "      <td>Groceries &amp; Supermarts\\n\\t\\t\\t\\t\\t\\t\\t\\n\\t\\t\\t...</td>\n",
              "    </tr>\n",
              "    <tr>\n",
              "      <th>273</th>\n",
              "      <td>1606013912-922</td>\n",
              "      <td>https://www.stproperty.sg/search/rent/resident...</td>\n",
              "      <td>Jalan Lye Kwee</td>\n",
              "      <td>https://www.stproperty.sg/listings/70073542/fo...</td>\n",
              "      <td>$600</td>\n",
              "      <td>Common</td>\n",
              "      <td>Key Information\\n\\t\\t\\t\\n\\t\\t\\t\\t\\n\\t\\t\\t\\t\\t\\...</td>\n",
              "      <td>Facilities\\n\\t\\t\\t\\n\\t\\t\\t\\t\\n\\t\\t\\t\\t\\t\\n\\t\\t...</td>\n",
              "      <td>Shopping Malls\\n\\t\\t\\t\\t\\t\\t\\t\\n\\t\\t\\t\\t\\t\\t\\t...</td>\n",
              "      <td>Terrace</td>\n",
              "      <td>About this property\\n\\t\\t\\t\\n\\t\\t\\t\\t\\n\\t\\t\\t\\...</td>\n",
              "      <td>Groceries &amp; Supermarts\\n\\t\\t\\t\\t\\t\\t\\t\\n\\t\\t\\t...</td>\n",
              "    </tr>\n",
              "  </tbody>\n",
              "</table>\n",
              "<p>274 rows × 12 columns</p>\n",
              "</div>"
            ],
            "text/plain": [
              "    web-scraper-order  ...                                        supermarket\n",
              "0     1606014711-1099  ...  Groceries & Supermarts\\n\\t\\t\\t\\t\\t\\t\\t\\n\\t\\t\\t...\n",
              "1      1606013826-889  ...  Groceries & Supermarts\\n\\t\\t\\t\\t\\t\\t\\t\\n\\t\\t\\t...\n",
              "2      1606014089-971  ...  Groceries & Supermarts\\n\\t\\t\\t\\t\\t\\t\\t\\n\\t\\t\\t...\n",
              "3      1606014121-979  ...  Groceries & Supermarts\\n\\t\\t\\t\\t\\t\\t\\t\\n\\t\\t\\t...\n",
              "4      1606014098-974  ...  Groceries & Supermarts\\n\\t\\t\\t\\t\\t\\t\\t\\n\\t\\t\\t...\n",
              "..                ...  ...                                                ...\n",
              "269    1606014013-956  ...  Groceries & Supermarts\\n\\t\\t\\t\\t\\t\\t\\t\\n\\t\\t\\t...\n",
              "270    1606013845-897  ...  Groceries & Supermarts\\n\\t\\t\\t\\t\\t\\t\\t\\n\\t\\t\\t...\n",
              "271   1606014901-1144  ...  Groceries & Supermarts\\n\\t\\t\\t\\t\\t\\t\\t\\n\\t\\t\\t...\n",
              "272    1606013946-936  ...  Groceries & Supermarts\\n\\t\\t\\t\\t\\t\\t\\t\\n\\t\\t\\t...\n",
              "273    1606013912-922  ...  Groceries & Supermarts\\n\\t\\t\\t\\t\\t\\t\\t\\n\\t\\t\\t...\n",
              "\n",
              "[274 rows x 12 columns]"
            ]
          },
          "metadata": {
            "tags": []
          },
          "execution_count": 285
        }
      ]
    },
    {
      "cell_type": "code",
      "metadata": {
        "colab": {
          "base_uri": "https://localhost:8080/"
        },
        "id": "bCNuVQzLJEtq",
        "outputId": "b7c051f3-f0bd-48dc-80fd-14a2b07ae6aa"
      },
      "source": [
        "count=0\n",
        "for j in range(house_data.shape[0]):\n",
        "  if not pd.isnull(house_data.iloc[j][\"page_links\"]):\n",
        "    count+=1 \n",
        "print(count)"
      ],
      "execution_count": 286,
      "outputs": [
        {
          "output_type": "stream",
          "text": [
            "276\n"
          ],
          "name": "stdout"
        }
      ]
    },
    {
      "cell_type": "code",
      "metadata": {
        "colab": {
          "base_uri": "https://localhost:8080/"
        },
        "id": "g89kdZxi2drz",
        "outputId": "dfe7055e-35ce-4840-8d3f-b5fa634cd71f"
      },
      "source": [
        "for j in range(house_data2.shape[0]):\n",
        "  s=re.sub('\\s','',house_data2.iloc[j][\"lease_term\"])\n",
        "  house_data2.iloc[j][\"lease_term\"]=s[s.find(\"LeaseTerm\")+9:s.find(\"LeaseTerm\")+19]\n",
        "print(house_data2['lease_term'].value_counts())\n",
        "# house_data2['lease_term'].unique()"
      ],
      "execution_count": 287,
      "outputs": [
        {
          "output_type": "stream",
          "text": [
            "FlexibleFu    143\n",
            "1yearFurni     90\n",
            "1yearTakeO     20\n",
            "FlexibleTa     14\n",
            "2yearsFurn      6\n",
            "2yearsTake      1\n",
            "Name: lease_term, dtype: int64\n"
          ],
          "name": "stdout"
        }
      ]
    },
    {
      "cell_type": "code",
      "metadata": {
        "colab": {
          "base_uri": "https://localhost:8080/"
        },
        "id": "2XA1fXmCz919",
        "outputId": "2020b532-e6bc-4ac4-972d-a55c9eccff18"
      },
      "source": [
        "count=0\n",
        "for i in range(house_data.shape[0]):\n",
        "  if pd.isnull(house_data.iloc[i][\"page_links\"]):\n",
        "    # count+=1\n",
        "    continue\n",
        "  for j in range(house_data2.shape[0]):\n",
        "    if house_data.iloc[i][\"page_links-href\"]==house_data2.iloc[j][\"page_links-href\"]:\n",
        "      # s=re.sub('\\s','',house_data2.iloc[j][\"lease_term\"])\n",
        "      # m=s[s.find(\"LeaseTerm\")+9:s.find(\"LeaseTerm\")+19]\n",
        "      house_data.iloc[i][\"lease_term\"]=house_data2.iloc[j][\"lease_term\"]\n",
        "      count+=1\n",
        "print(count)"
      ],
      "execution_count": 288,
      "outputs": [
        {
          "output_type": "stream",
          "text": [
            "143\n"
          ],
          "name": "stdout"
        }
      ]
    },
    {
      "cell_type": "code",
      "metadata": {
        "colab": {
          "base_uri": "https://localhost:8080/"
        },
        "id": "9KLlfwNV3qjb",
        "outputId": "563dd170-3d0b-4e9d-aa20-0567becaf581"
      },
      "source": [
        "count=0\n",
        "count1=0\n",
        "# print(len(house_data['lease_term']))\n",
        "for i in range(house_data.shape[0]):\n",
        "  # print(pd.isnull(house_data.iloc[i][\"property_info\"]))\n",
        "  if not pd.isnull(house_data.iloc[i][\"page_links\"]):\n",
        "    count1+=1\n",
        "    if pd.isnull(house_data['lease_term'][i]):\n",
        "      continue\n",
        "    if 'sq' in house_data['lease_term'][i]:\n",
        "      count+=1\n",
        "house_data['lease_term'].value_counts()\n",
        "# print(count1,count)"
      ],
      "execution_count": 289,
      "outputs": [
        {
          "output_type": "execute_result",
          "data": {
            "text/plain": [
              "FlexibleFu             75\n",
              "1yearFurni             48\n",
              "150 sqft (Built-up)    10\n",
              "200 sqft (Built-up)     8\n",
              "14 sqm (Built-up)       8\n",
              "                       ..\n",
              "80 sqft (Built-up)      1\n",
              "2yearsTake              1\n",
              "135 sqft (Built-up)     1\n",
              "23 sqm (Built-up)       1\n",
              "686 sqft (Built-up)     1\n",
              "Name: lease_term, Length: 79, dtype: int64"
            ]
          },
          "metadata": {
            "tags": []
          },
          "execution_count": 289
        }
      ]
    },
    {
      "cell_type": "code",
      "metadata": {
        "id": "ok6mLrXBNlBG"
      },
      "source": [
        "import re\n",
        "import numpy as np\n",
        "def get_p_type(s):\n",
        "  if \"PropertyType\" in s:\n",
        "    t=s[s.find(\"PropertyType\")+12:s.find(\"PropertyType\")+30]\n",
        "  t=t.lower()\n",
        "  if \"hdb\" in t:\n",
        "    t=\"HDB\"\n",
        "  if \"apartment\" in t:\n",
        "    t=\"apartment\"\n",
        "  if \"condominium\" in t:\n",
        "    t=\"conda\"\n",
        "  if \"terrace\" in t:\n",
        "    t=\"terrace\"\n",
        "  if \"detached\" in t:\n",
        "    t=\"detached\"\n",
        "  return t\n",
        "def get_model(s):\n",
        "  m='unknown'\n",
        "  if \"Model\" in s:\n",
        "    m=s[s.find(\"Model\")+5:s.find(\"Model\")+15]\n",
        "  return m\n",
        "def get_size(s):\n",
        "  n=0\n",
        "  if \"Size\" in s:\n",
        "    m=s[s.find(\"Size\")+4:s.find(\"Size\")+14]\n",
        "    \n",
        "    if \",\" in m:\n",
        "      i=m.find(',')\n",
        "      m=m[:i]+m[i+1:]\n",
        "    \n",
        "    n=float(re.findall(r\"\\d+\\.?\\d*\",m)[0])\n",
        "    \n",
        "    if \"sqft\" in m:\n",
        "      n=n*0.093\n",
        "  return n\n",
        "def get_year(s):\n",
        "  n=0\n",
        "  if \"BuiltYear\" in s:\n",
        "    m=s[s.find(\"BuiltYear\")+9:s.find(\"BuiltYear\")+13]\n",
        "    n=int(re.findall(r\"\\d+\\.?\\d*\",m)[0])\n",
        "  return n\n",
        "def has_air(s):\n",
        "  if \"AirCondition\" in s:\n",
        "    return True\n",
        "  else:\n",
        "    return False\n",
        "def get_super(s):\n",
        "  m=0\n",
        "  count=0\n",
        "  while s.find(\"km\")!=-1:\n",
        "    count+=1\n",
        "    if s==\"-1km\":\n",
        "      return -1,0\n",
        "    m=m+float(re.findall(r\"\\d+\\.?\\d*\",s[s.find(\"km\")-4:s.find(\"km\")])[0])\n",
        "    s=s[s.find(\"km\")+2:]\n",
        "  if m/count==0:\n",
        "    print(\"count is 0\")\n",
        "  return m/count,count\n",
        "# def get_lease(s):\n",
        "#   s=re.sub('\\s','',house_data2.iloc[10][\"lease_term\"])\n",
        "#   m=s[s.find(\"LeaseTerm\")+9:s.find(\"LeaseTerm\")+19] "
      ],
      "execution_count": 290,
      "outputs": []
    },
    {
      "cell_type": "code",
      "metadata": {
        "colab": {
          "base_uri": "https://localhost:8080/"
        },
        "id": "AnATBzJ-Fhk-",
        "outputId": "8030876c-6ff8-47be-f4f6-c33e880d1b2b"
      },
      "source": [
        "\n",
        "p_type=[]\n",
        "model=[]\n",
        "size=[]\n",
        "built_year=[]\n",
        "has_airs=[]\n",
        "avgs=[]\n",
        "counts=[]\n",
        "avgs1=[]\n",
        "counts1=[]\n",
        "prices=[]\n",
        "for i in range(house_data.shape[0]):\n",
        "  # print(pd.isnull(house_data.iloc[i][\"property_info\"]))\n",
        "  if not pd.isnull(house_data.iloc[i][\"property_info\"]):\n",
        "    p=house_data.iloc[i][\"property_info\"]\n",
        "    f=house_data.iloc[i][\"facilities\"]\n",
        "    su=house_data.iloc[i][\"supermarket\"]\n",
        "    sh=house_data.iloc[i][\"shopping\"]\n",
        "    pr=house_data.iloc[i][\"price\"]\n",
        "    # lt=house_data.iloc[i][\"lease_term\"]\n",
        "  elif not pd.isnull(house_data.iloc[i][\"property_info1\"]):\n",
        "    p=house_data.iloc[i][\"property_info1\"]\n",
        "    f=house_data.iloc[i][\"facility1\"]\n",
        "    su=house_data.iloc[i][\"supermarket1\"]\n",
        "    sh=house_data.iloc[i][\"shopping1\"]\n",
        "    pr=house_data.iloc[i][\"price_1\"]\n",
        "    # lt=house_data.iloc[i][\"lease_term1\"]\n",
        "  else:\n",
        "    p=house_data.iloc[i][\"property_info2\"]\n",
        "    f=house_data.iloc[i][\"facility2\"]\n",
        "    su=house_data.iloc[i][\"supermarket2\"]\n",
        "    sh=house_data.iloc[i][\"shopping2\"]\n",
        "    pr=house_data.iloc[i][\"price2\"]\n",
        "    # lt=house_data.iloc[i][\"lease_term2\"]\n",
        "  s=re.sub('\\s','',p)\n",
        "  if len(re.findall(r\"\\d+\\.?\\d*\",pr))==0:\n",
        "    pr=-1\n",
        "  else:\n",
        "    if \",\" in pr:\n",
        "      i=pr.find(',')\n",
        "      pr=pr[:i]+pr[i+1:]\n",
        "    pr=re.findall(r\"\\d+\\.?\\d*\",pr)[0]\n",
        "   \n",
        "  prices.append(int(pr))\n",
        "  p_type.append(get_p_type(s))\n",
        "  model.append(get_model(s))\n",
        "  size.append(get_size(s))\n",
        "  built_year.append(get_year(s))\n",
        "  if pd.isnull(f):\n",
        "    \n",
        "    f=\"unknown\"\n",
        "  if pd.isnull(su):\n",
        "    su=\"-1km\"\n",
        "  if pd.isnull(sh):\n",
        "    sh=\"0km\"\n",
        "  # if pd.isnull(lt):\n",
        "  #   lt=\"unknown\"\n",
        "  s1=re.sub('\\s','',f)\n",
        "  s2=re.sub('\\s','',su)\n",
        "  s3=re.sub('\\s','',sh)\n",
        "  # s4=re.sub('\\s','',lt)\n",
        "  has_airs.append(has_air(s1))\n",
        "  avg,count=get_super(s2)\n",
        "  avg1,count1=get_super(s3)\n",
        "  counts.append(count)\n",
        "  avgs.append(avg)\n",
        "  counts1.append(count1)\n",
        "  avgs1.append(avg1)\n",
        "  # lts.append(get_lease_term(ls))\n",
        "print(len(p_type),len(model),len(has_airs),len(prices),len(avgs1))\n",
        "print(prices)"
      ],
      "execution_count": 291,
      "outputs": [
        {
          "output_type": "stream",
          "text": [
            "count is 0\n",
            "count is 0\n",
            "count is 0\n",
            "count is 0\n",
            "count is 0\n",
            "count is 0\n",
            "545 545 545 545 545\n",
            "[999, 1350, 850, 700, 2500, 980, 1200, 3050, 1000, 799, 880, 850, 600, 850, 750, 900, 780, 900, 1850, 1250, 1350, 2100, 1100, 850, 600, 1400, 650, 900, 1200, 750, 1050, 880, 1200, 1000, 1000, 800, 750, 1550, 1050, 1200, 750, 650, 1250, 700, 950, 1100, 820, 700, 950, 700, 750, 4500, 550, 850, 700, 1288, 1300, 1150, 750, 1200, 900, 550, 950, 600, 700, 650, 1000, 1300, 1200, 950, 900, 1000, 1300, 580, 700, 850, 980, 1180, 700, 1330, 850, 300, 800, 1388, 900, 900, 1000, 650, 800, 1650, 1200, 1700, 1150, 880, 1200, 800, 700, 1200, 800, 1200, 1000, 650, 950, 800, 850, 850, 850, 580, 750, 800, 550, 600, 850, 750, 1350, 1850, 1200, 1250, 720, 1100, 1100, 1500, 1550, 1000, 1900, 950, 1600, 650, 1350, 850, 700, 2400, 700, 1500, 1330, 1200, 1450, 800, 1100, 1500, 900, 950, 880, 950, 800, 1000, 880, 1250, 1380, 750, 2340, 680, 998, 300, 1200, 1500, 1700, 750, 730, 900, 800, 650, 1400, 850, 850, 1000, 950, 680, 1800, 600, 950, 900, 800, 1638, 700, 1500, 700, 600, 850, 1100, 2000, 1200, 880, 1000, 800, 1100, 600, 750, 800, 1200, 1450, 800, 650, 1380, 650, 950, 1350, 700, 1250, 850, 950, 1300, 300, 1500, 550, 1000, 1250, 650, 1500, 1400, 980, 1400, 1380, 1100, 800, 750, 1200, 900, 880, 800, 1000, 950, 800, 2430, 800, 950, 850, 650, 1358, 700, 1800, 1100, 750, 2200, 1600, 900, 1000, 700, 635, 1200, 999, 1600, 680, 1500, 2300, 1300, 650, 1500, 1500, 800, 1822, 1200, 900, 800, 1100, 650, 1600, 1350, 900, 1980, 1300, 900, 1100, 1350, 1250, 1800, 1308, 1200, 1000, 750, 780, 850, 1200, 1100, 800, 800, 750, 980, 750, 750, 650, 1150, 550, 1200, 1200, 1600, 650, 580, 750, 620, 700, 800, 1000, 850, 580, 1500, 950, 850, 850, 800, 1100, 800, 1250, 850, 1200, 850, 600, 600, 1000, 1900, 650, 1600, 1250, 1600, 650, 650, 1458, 800, 1111, 799, 1235, 1000, 1000, 1500, 1100, 1100, 1800, 3000, -1, 700, 950, 1350, 700, 1700, 1700, 850, 700, 900, 950, 1050, 880, 750, 1300, 1500, 1000, 2200, 2600, 1400, 900, 1600, 900, 1140, 850, 1500, 1650, 1200, 850, 800, 850, 8300, 1000, 1355, 680, 300, 750, 1400, 2000, 1600, 750, 650, 850, 1400, 999, 700, 1150, 680, 950, 1100, 1400, 400, 700, 750, 550, 850, 700, 1300, 2000, 850, 750, 1300, 2000, 750, 750, 550, 900, 780, 700, 600, 1000, 1050, 750, 800, 750, 1300, 700, 500, 1050, 900, 2400, 1100, 1200, 750, 700, 900, 800, 800, 930, 270, 500, 1700, 500, 3000, 700, 1100, 1100, 700, 850, 900, 550, 850, 800, 950, 1050, 1700, 750, 1300, 1100, 700, 900, 880, 650, 600, 1300, 900, 600, 800, 900, 850, 850, 650, 1155, 1988, 750, 950, 550, 950, 750, 1000, 1400, 1399, -1, 900, 700, 1300, 750, 680, 1100, 1050, 1100, 780, 1300, 850, 650, 1600, 1300, 600, 790, 1150, 600, 500, 580, 1000, 850, 1800, 2200, 1000, 2300, 1200, 1100, 700, 980, 900, 1400, 900, 850, 900, 800, 500, 1550, 999, 1300, 950, 750, 1400, 800, 1100, 1300, 1400, 1200, 1700, 800, 1350, 650, 900, 1000, 750, 300, 700, 1100, 1350, 900, 1000, 400, 700, 600, 1600, 800, 2300, 1200, 1600, 600, 1200, 550, 600, 400, 1050, 680, 700, 1950, 590, 1200, 2100, 800, 1000, 950]\n"
          ],
          "name": "stdout"
        }
      ]
    },
    {
      "cell_type": "code",
      "metadata": {
        "id": "VDaokAqYwbe0"
      },
      "source": [
        "year_avg=sum(built_year)/len(built_year)\n",
        "price_avg=(sum(prices)+2)/len(prices)"
      ],
      "execution_count": 377,
      "outputs": []
    },
    {
      "cell_type": "code",
      "metadata": {
        "colab": {
          "base_uri": "https://localhost:8080/"
        },
        "id": "5hb_fpKAjy00",
        "outputId": "65ff6d98-3076-44b7-d3a0-b6e00535f973"
      },
      "source": [
        "from pandas.core.frame import DataFrame\n",
        "print(avg1)\n",
        "dic={\"price\":prices,\"p_type\":p_type,\"built_year\":built_year,\n",
        "     \"has_airs\":has_airs,\"super_avg\":avgs,\"super_count\":counts,\n",
        "     \"shop_avg\":avgs1,\"shop_count\":counts1}\n",
        "data=DataFrame(dic)\n",
        "print(data.shape[0])"
      ],
      "execution_count": 378,
      "outputs": [
        {
          "output_type": "stream",
          "text": [
            "0.32\n",
            "545\n"
          ],
          "name": "stdout"
        }
      ]
    },
    {
      "cell_type": "code",
      "metadata": {
        "colab": {
          "base_uri": "https://localhost:8080/"
        },
        "id": "cM0n9NTJvmPM",
        "outputId": "be98dab1-e0c5-437f-e173-909a11ff281a"
      },
      "source": [
        "# print(data.loc[data['built_year'] == 0])\n",
        "data.loc[data['price'] == -1,'price'] = price_avg\n",
        "data.loc[data['built_year']==0,'built_year'] = year_avg\n",
        "print(data.loc[data['built_year']==0])\n",
        "print(data[\"p_type\"].unique())"
      ],
      "execution_count": 379,
      "outputs": [
        {
          "output_type": "stream",
          "text": [
            "Empty DataFrame\n",
            "Columns: [price, p_type, built_year, has_airs, super_avg, super_count, shop_avg, shop_count]\n",
            "Index: []\n",
            "['HDB' 'conda' 'detached' 'apartment' 'terrace']\n"
          ],
          "name": "stdout"
        }
      ]
    },
    {
      "cell_type": "code",
      "metadata": {
        "id": "uX3E-kr-uQbn"
      },
      "source": [
        "years=pd.qcut(data[\"built_year\"],2,labels=['old','new'])\n",
        "data['yearGroup'] = years\n",
        "data=data.join(pd.get_dummies(data.yearGroup))\n",
        "data = data.drop(columns=['built_year','yearGroup'])\n"
      ],
      "execution_count": 380,
      "outputs": []
    },
    {
      "cell_type": "code",
      "metadata": {
        "colab": {
          "base_uri": "https://localhost:8080/"
        },
        "id": "_aux2clEjAud",
        "outputId": "abe8da31-9cd4-4b7c-b9e3-37a1126ddf26"
      },
      "source": [
        "print(data.columns)"
      ],
      "execution_count": 381,
      "outputs": [
        {
          "output_type": "stream",
          "text": [
            "Index(['price', 'p_type', 'has_airs', 'super_avg', 'super_count', 'shop_avg',\n",
            "       'shop_count', 'old', 'new'],\n",
            "      dtype='object')\n"
          ],
          "name": "stdout"
        }
      ]
    },
    {
      "cell_type": "code",
      "metadata": {
        "colab": {
          "base_uri": "https://localhost:8080/"
        },
        "id": "eNuwkxulnMHb",
        "outputId": "f6bff351-c1cf-40e6-968d-6e06f6b805e3"
      },
      "source": [
        "import numpy as np\n",
        "array=np.array(data)\n",
        "print(array[1])"
      ],
      "execution_count": 382,
      "outputs": [
        {
          "output_type": "stream",
          "text": [
            "[1350.0 'conda' True 0.5099999999999999 3 0.43333333333333335 3 0 1]\n"
          ],
          "name": "stdout"
        }
      ]
    },
    {
      "cell_type": "code",
      "metadata": {
        "id": "u5gJ698rrnMb"
      },
      "source": [
        "from sklearn.preprocessing import LabelEncoder, OneHotEncoder\n",
        "from sklearn.compose import ColumnTransformer\n",
        "ct = ColumnTransformer([(\"p_type\", OneHotEncoder(), [1])], remainder = 'passthrough')\n",
        "array = ct.fit_transform(array)\n"
      ],
      "execution_count": 383,
      "outputs": []
    },
    {
      "cell_type": "code",
      "metadata": {
        "colab": {
          "base_uri": "https://localhost:8080/"
        },
        "id": "LlTCrUvgjfH1",
        "outputId": "df069439-d877-4633-db05-a1f913b21130"
      },
      "source": [
        "print(array[1])"
      ],
      "execution_count": 384,
      "outputs": [
        {
          "output_type": "stream",
          "text": [
            "[0.0 0.0 1.0 0.0 0.0 1350.0 True 0.5099999999999999 3 0.43333333333333335\n",
            " 3 0 1]\n"
          ],
          "name": "stdout"
        }
      ]
    },
    {
      "cell_type": "code",
      "metadata": {
        "id": "WQdAupcurFpG"
      },
      "source": [
        "labelencoder_X = LabelEncoder()\n",
        "# print(array[:,7])\n",
        "array[:,6] = labelencoder_X.fit_transform(array[:, 6])"
      ],
      "execution_count": 385,
      "outputs": []
    },
    {
      "cell_type": "code",
      "metadata": {
        "colab": {
          "base_uri": "https://localhost:8080/"
        },
        "id": "XH27yyuCjSUB",
        "outputId": "3905f30c-f3b0-4852-e233-558f1a0cf613"
      },
      "source": [
        "print(array[1])"
      ],
      "execution_count": 386,
      "outputs": [
        {
          "output_type": "stream",
          "text": [
            "[0.0 0.0 1.0 0.0 0.0 1350.0 1 0.5099999999999999 3 0.43333333333333335 3 0\n",
            " 1]\n"
          ],
          "name": "stdout"
        }
      ]
    },
    {
      "cell_type": "code",
      "metadata": {
        "colab": {
          "base_uri": "https://localhost:8080/"
        },
        "id": "ZP9UdISZ2qgU",
        "outputId": "7de18d0a-f7e1-4d83-eb41-3dd49646c770"
      },
      "source": [
        "# def normalization(data):\n",
        "#   _range = np.max(data) - np.min(data)\n",
        "#   return (data - np.min(data)) / _range\n",
        "\n",
        "# array[:,6]=normalization(array[:,6])\n",
        "# array[:,8]=normalization(array[:,8])\n",
        "# array[:,9]=normalization(array[:,9])\n",
        "# array[:,10]=normalization(array[:,10])\n",
        "# array[:,11]=normalization(array[:,11])\n",
        "# from sklearn.preprocessing import scale\n",
        "# array = scale(array)\n",
        "from sklearn.preprocessing import MinMaxScaler\n",
        "min_max_scaler = MinMaxScaler()\n",
        "array = min_max_scaler.fit_transform(array)\n",
        "print(array[1])"
      ],
      "execution_count": 387,
      "outputs": [
        {
          "output_type": "stream",
          "text": [
            "[0.         0.         1.         0.         0.         0.13449564\n",
            " 1.         0.0983927  1.         0.05922551 1.         0.\n",
            " 1.        ]\n"
          ],
          "name": "stdout"
        }
      ]
    },
    {
      "cell_type": "code",
      "metadata": {
        "colab": {
          "base_uri": "https://localhost:8080/"
        },
        "id": "dERJNXqq8egx",
        "outputId": "5593da43-f01e-4199-ad3c-a78e78a70c22"
      },
      "source": [
        "from sklearn.cluster import KMeans\n",
        "import sklearn.metrics as sm\n",
        "\n",
        "SSE = []\n",
        "for i in range(2,10):\n",
        "  model = KMeans(n_clusters=i,random_state=9)\n",
        "  model.fit(array)  # 完成聚类\n",
        "  pred_y = model.predict(array)  # 预测点在哪个聚类中\n",
        "  SSE.append(model.inertia_)\n",
        "  print(sm.silhouette_score(array, pred_y, sample_size=len(array), metric='euclidean'))\n",
        "  # centers = model.cluster_centers_\n",
        "  # print(centers)\n"
      ],
      "execution_count": 391,
      "outputs": [
        {
          "output_type": "stream",
          "text": [
            "0.3851763816633564\n",
            "0.3931507469149068\n",
            "0.46768264142650356\n",
            "0.5615066046885432\n",
            "0.6133828211886416\n",
            "0.6512838665122884\n",
            "0.6897942154521001\n",
            "0.7232376478162588\n"
          ],
          "name": "stdout"
        }
      ]
    },
    {
      "cell_type": "code",
      "metadata": {
        "colab": {
          "base_uri": "https://localhost:8080/",
          "height": 280
        },
        "id": "K3lxP_354AMG",
        "outputId": "21d2e35e-a3b4-4a3c-cc1a-3b7c3b9911a7"
      },
      "source": [
        "import matplotlib.pyplot as plt\n",
        "X = range(2,10)\n",
        "plt.xlabel('k')\n",
        "plt.ylabel('SSE')\n",
        "plt.plot(X,SSE,'o-')\n",
        "plt.show()"
      ],
      "execution_count": 393,
      "outputs": [
        {
          "output_type": "display_data",
          "data": {
            "image/png": "[encoded data removed]",
            "text/plain": [
              "<Figure size 432x288 with 1 Axes>"
            ]
          },
          "metadata": {
            "tags": [],
            "needs_background": "light"
          }
        }
      ]
    },
    {
      "cell_type": "code",
      "metadata": {
        "colab": {
          "base_uri": "https://localhost:8080/"
        },
        "id": "f4O0ju3IvlCi",
        "outputId": "df21c0fa-3d91-428c-fc82-cf6626dcd2dd"
      },
      "source": [
        "model = KMeans(n_clusters=5,random_state=9)\n",
        "model.fit(array)\n",
        "centers = model.cluster_centers_\n",
        "\n",
        "print(centers)"
      ],
      "execution_count": 402,
      "outputs": [
        {
          "output_type": "stream",
          "text": [
            "[[-4.99600361e-16  2.49800181e-16  1.00000000e+00 -8.32667268e-17\n",
            "   1.52655666e-16  1.37054694e-01  8.93617021e-01  1.09735752e-01\n",
            "   1.00000000e+00  1.18753938e-01  9.36170213e-01 -7.77156117e-16\n",
            "   1.00000000e+00]\n",
            " [ 1.00000000e+00  6.66133815e-16 -3.60822483e-16  4.16333634e-17\n",
            "   1.66533454e-16  6.35315328e-02  6.85314685e-01  1.16636187e-01\n",
            "   1.00000000e+00  1.27874859e-01  9.47552448e-01  1.00000000e+00\n",
            "   7.77156117e-16]\n",
            " [ 1.00000000e+00  3.33066907e-16 -3.33066907e-16 -8.32667268e-17\n",
            "   1.52655666e-16  6.54895627e-02  7.22772277e-01  1.00878702e-01\n",
            "   1.00000000e+00  1.10712916e-01  9.65346535e-01 -7.77156117e-16\n",
            "   1.00000000e+00]\n",
            " [-4.99600361e-16  8.57142857e-01 -3.05311332e-16  2.59740260e-02\n",
            "   1.16883117e-01  1.19407740e-01  9.09090909e-01  1.07884730e-01\n",
            "   9.87012987e-01  1.08540662e-01  9.15584416e-01 -6.66133815e-16\n",
            "   1.00000000e+00]\n",
            " [-5.55111512e-16  4.38461538e-01  2.00000000e-01  1.53846154e-01\n",
            "   2.07692308e-01  1.21065236e-01  8.69230769e-01  1.17660229e-01\n",
            "   9.97435897e-01  1.27126336e-01  9.03846154e-01  1.00000000e+00\n",
            "   7.77156117e-16]]\n"
          ],
          "name": "stdout"
        }
      ]
    },
    {
      "cell_type": "code",
      "metadata": {
        "id": "3ELKsk8nOGNb"
      },
      "source": [
        "# cluster1  conda+高价+new \n",
        "# cluster2  HDB+低价+无空调+old \n",
        "# cluster3  HDB+低价+shop多+new \n",
        "# cluster4  apartment+高价+new \n",
        "# cluster5  terrace,detached+高价+old  "
      ],
      "execution_count": null,
      "outputs": []
    }
  ]
}